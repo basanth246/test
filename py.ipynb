{
 "cells": [
  {
   "cell_type": "code",
   "execution_count": 1,
   "metadata": {},
   "outputs": [],
   "source": [
    "a= int(input('enter a number'))\n",
    "b= int(input('enter a number'))\n",
    "add= a+b\n",
    "add"
   ]
  }
 ],
 "metadata": {
  "interpreter": {
   "hash": "4e4f52663f652351601d3c04f2d199c1cd644c7d29e4757f884c8616c2b3c88c"
  },
  "kernelspec": {
   "display_name": "Python 3.9.7 ('base')",
   "language": "python",
   "name": "python3"
  },
  "language_info": {
   "codemirror_mode": {
    "name": "ipython",
    "version": 3
   },
   "file_extension": ".py",
   "mimetype": "text/x-python",
   "name": "python",
   "nbconvert_exporter": "python",
   "pygments_lexer": "ipython3",
   "version": "3.9.7"
  },
  "orig_nbformat": 4
 },
 "nbformat": 4,
 "nbformat_minor": 2
}
